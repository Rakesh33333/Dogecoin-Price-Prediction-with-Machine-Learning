{
  "nbformat": 4,
  "nbformat_minor": 0,
  "metadata": {
    "colab": {
      "provenance": [],
      "authorship_tag": "ABX9TyOOxvoj1Q1icXQdS+22EAYN",
      "include_colab_link": true
    },
    "kernelspec": {
      "name": "python3",
      "display_name": "Python 3"
    },
    "language_info": {
      "name": "python"
    }
  },
  "cells": [
    {
      "cell_type": "markdown",
      "metadata": {
        "id": "view-in-github",
        "colab_type": "text"
      },
      "source": [
        "<a href=\"https://colab.research.google.com/github/Rakesh33333/Pai-lab/blob/main/Csp7.ipynb\" target=\"_parent\"><img src=\"https://colab.research.google.com/assets/colab-badge.svg\" alt=\"Open In Colab\"/></a>"
      ]
    },
    {
      "cell_type": "code",
      "execution_count": 1,
      "metadata": {
        "colab": {
          "base_uri": "https://localhost:8080/"
        },
        "id": "j-_vongY8tHP",
        "outputId": "f10df200-ee80-488b-a532-f5cb807ddf62"
      },
      "outputs": [
        {
          "output_type": "stream",
          "name": "stdout",
          "text": [
            "Collecting python-constraint\n",
            "  Downloading python-constraint-1.4.0.tar.bz2 (18 kB)\n",
            "  Preparing metadata (setup.py) ... \u001b[?25l\u001b[?25hdone\n",
            "Building wheels for collected packages: python-constraint\n",
            "  Building wheel for python-constraint (setup.py) ... \u001b[?25l\u001b[?25hdone\n",
            "  Created wheel for python-constraint: filename=python_constraint-1.4.0-py2.py3-none-any.whl size=24058 sha256=1c214806630d0c9fe6bb0246c7df965760390ce137c659f526e8319d3e17b52b\n",
            "  Stored in directory: /root/.cache/pip/wheels/2e/f2/2b/cb08b5fe129e4f69b7033061f256e5c551b0aa1160c2872aee\n",
            "Successfully built python-constraint\n",
            "Installing collected packages: python-constraint\n",
            "Successfully installed python-constraint-1.4.0\n",
            "{'A': 'blue', 'B': 'green', 'C': 'green', 'D': 'blue'}\n"
          ]
        }
      ],
      "source": [
        "!pip install python-constraint\n",
        "\n",
        "from constraint import Problem\n",
        "\n",
        "def graph_coloring(vertices, edges):\n",
        " problem = Problem()\n",
        " colors = ['red', 'green', 'blue']\n",
        "\n",
        " for vertex in vertices:\n",
        "  problem.addVariable(vertex, colors)\n",
        "\n",
        " for edge in edges:\n",
        "  problem.addConstraint(lambda a, b: a != b, edge)\n",
        "\n",
        " solution = problem.getSolution()\n",
        "\n",
        " if solution:\n",
        "  return solution\n",
        " else:\n",
        "  return \"No solution found\"\n",
        "\n",
        "# Example usage:\n",
        "vertices = ['A', 'B', 'C', 'D']\n",
        "edges = [('A', 'B'), ('A', 'C'), ('B', 'D'), ('C', 'D')]\n",
        "print(graph_coloring(vertices, edges))"
      ]
    }
  ]
}