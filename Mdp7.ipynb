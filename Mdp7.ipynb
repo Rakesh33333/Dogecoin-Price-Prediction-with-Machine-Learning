{
  "nbformat": 4,
  "nbformat_minor": 0,
  "metadata": {
    "colab": {
      "provenance": [],
      "authorship_tag": "ABX9TyPfQBhuMxQWjnfQgXjiz5uf",
      "include_colab_link": true
    },
    "kernelspec": {
      "name": "python3",
      "display_name": "Python 3"
    },
    "language_info": {
      "name": "python"
    }
  },
  "cells": [
    {
      "cell_type": "markdown",
      "metadata": {
        "id": "view-in-github",
        "colab_type": "text"
      },
      "source": [
        "<a href=\"https://colab.research.google.com/github/Rakesh33333/Pai-lab/blob/main/Mdp7.ipynb\" target=\"_parent\"><img src=\"https://colab.research.google.com/assets/colab-badge.svg\" alt=\"Open In Colab\"/></a>"
      ]
    },
    {
      "cell_type": "code",
      "execution_count": 1,
      "metadata": {
        "colab": {
          "base_uri": "https://localhost:8080/"
        },
        "id": "RjlOsEb70Z0M",
        "outputId": "cd34191e-4129-4acf-8813-fa8737f997fc"
      },
      "outputs": [
        {
          "output_type": "stream",
          "name": "stdout",
          "text": [
            "Optimal Value Function: {0: 9.999997681730786, 1: 9.999997913557708, 2: 9.999998122201937}\n",
            "Optimal Policy: {0: 'b', 1: 'b', 2: 'b'}\n"
          ]
        }
      ],
      "source": [
        "import numpy as np\n",
        "\n",
        "def value_iteration(states, actions, transition_probabilities, rewards, gamma, theta=1e-6):\n",
        "    \"\"\"\n",
        "    Perform value iteration for a given MDP.\n",
        "\n",
        "    Args:\n",
        "    - states: List of all states.\n",
        "    - actions: List of all actions.\n",
        "    - transition_probabilities: A dict where keys are (s, a) pairs and values are lists of (probability, next_state) pairs.\n",
        "    - rewards: A dict where keys are (s, a, s') tuples and values are the reward for that transition.\n",
        "    - gamma: Discount factor.\n",
        "    - theta: A small threshold for determining convergence.\n",
        "\n",
        "    Returns:\n",
        "    - V: Final value function.\n",
        "    - policy: Final policy.\n",
        "    \"\"\"\n",
        "    # Initialize value function\n",
        "    V = {s: 0 for s in states}\n",
        "\n",
        "    while True:\n",
        "        delta = 0\n",
        "        for s in states:\n",
        "            v = V[s]\n",
        "            # Compute the maximum value function over all actions\n",
        "            V[s] = max(sum(prob * (rewards.get((s, a, s_prime), 0) + gamma * V[s_prime])\n",
        "                           for prob, s_prime in transition_probabilities[(s, a)])\n",
        "                       for a in actions)\n",
        "            delta = max(delta, abs(v - V[s]))\n",
        "        # Check for convergence\n",
        "        if delta < theta:\n",
        "            break\n",
        "\n",
        "    # Derive policy\n",
        "    policy = {}\n",
        "    for s in states:\n",
        "        # Select the action that maximizes the expected value\n",
        "        policy[s] = max(actions, key=lambda a: sum(prob * (rewards.get((s, a, s_prime), 0) + gamma * V[s_prime])\n",
        "                                                   for prob, s_prime in transition_probabilities[(s, a)]))\n",
        "\n",
        "    return V, policy\n",
        "\n",
        "# Example Usage\n",
        "states = [0, 1, 2]\n",
        "actions = ['a', 'b']\n",
        "transition_probabilities = {\n",
        "    (0, 'a'): [(1.0, 1)],\n",
        "    (0, 'b'): [(1.0, 2)],\n",
        "    (1, 'a'): [(1.0, 0)],\n",
        "    (1, 'b'): [(1.0, 2)],\n",
        "    (2, 'a'): [(1.0, 0)],\n",
        "    (2, 'b'): [(1.0, 1)],\n",
        "}\n",
        "rewards = {\n",
        "    (0, 'a', 1): 1,\n",
        "    (0, 'b', 2): 1,\n",
        "    (1, 'a', 0): 1,\n",
        "    (1, 'b', 2): 1,\n",
        "    (2, 'a', 0): 1,\n",
        "    (2, 'b', 1): 1,\n",
        "}\n",
        "gamma = 0.9\n",
        "\n",
        "V, policy = value_iteration(states, actions, transition_probabilities, rewards, gamma)\n",
        "print(\"Optimal Value Function:\", V)\n",
        "print(\"Optimal Policy:\", policy)"
      ]
    }
  ]
}